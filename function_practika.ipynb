{
 "cells": [
  {
   "cell_type": "markdown",
   "metadata": {},
   "source": [
    "Вы работаете секретарем и вам постоянно приходят различные документы. Вы должны быть очень внимательны, чтобы не потерять ни один документ. Каталог документов хранится в следующем виде:"
   ]
  },
  {
   "cell_type": "code",
   "execution_count": 48,
   "metadata": {},
   "outputs": [],
   "source": [
    "documents = [\n",
    "    {'type': 'passport', 'number': '2207 876234', 'name': 'Василий Гупкин'},\n",
    "    {'type': 'invoice', 'number': '11-2', 'name': 'Геннадий Покемонов'},\n",
    "    {'type': 'insurance', 'number': '10006', 'name': 'Аристарх Павлов'}\n",
    "]"
   ]
  },
  {
   "cell_type": "markdown",
   "metadata": {},
   "source": [
    "Перечень полок, на которых находятся документы хранится в следующем виде:"
   ]
  },
  {
   "cell_type": "code",
   "execution_count": 49,
   "metadata": {},
   "outputs": [],
   "source": [
    "directories = {\n",
    "    '1': ['2207 876234', '11-2'],\n",
    "    '2': ['10006'],\n",
    "    '3': []\n",
    "}"
   ]
  },
  {
   "cell_type": "code",
   "execution_count": 50,
   "metadata": {},
   "outputs": [],
   "source": [
    "def print_directories(directories):\n",
    "    for key,value in directories.items():\n",
    "        print(key,value)"
   ]
  },
  {
   "cell_type": "markdown",
   "metadata": {},
   "source": [
    "Необходимо реализовать пользовательские команды (внимание! это не название функций, которые должны быть выразительными, а команды, которые вводит пользователь, чтобы получить необходимый результат):\n",
    "\n",
    "* p – people – команда, которая спросит номер документа и выведет имя человека, которому он принадлежит;\n",
    "* s – shelf – команда, которая спросит номер документа и выведет номер полки, на которой он находится\n",
    "Правильно обработайте ситуации, когда пользователь будет вводить несуществующий документ.\n",
    "* l – list – команда, которая выведет список всех документов в формате\n",
    "**passport \"2207 876234\" \"Василий Гупкин\"**\n",
    "* as – add shelf – команда, которая спросит номер новой полки и добавит ее в перечень. Предусмотрите случай, когда пользователь добавляет полку, которая уже существует.\n",
    "* d – delete – команда, которая спросит номер документа и удалит его из каталога и из перечня полок. Предусмотрите сценарий, когда пользователь вводит несуществующий документ;\n",
    "* m – move – команда, которая спросит номер документа и целевую полку и переместит его с текущей полки на целевую. Корректно обработайте кейсы, когда пользователь пытается переместить несуществующий документ или переместить документ на несуществующую полку;\n",
    "*  add – команда, которая добавит новый документ в каталог и в перечень полок, спросив его номер, тип, имя владельца и номер полки, на котором он будет храниться. Корректно обработайте ситуацию, когда пользователь будет пытаться добавить документ на несуществующую полку."
   ]
  },
  {
   "cell_type": "code",
   "execution_count": 51,
   "metadata": {},
   "outputs": [],
   "source": [
    "def search_person_by_document_number(number):\n",
    "    for doc in documents:\n",
    "        for value in list(doc.values()):\n",
    "            if value==number:\n",
    "                return (doc['name'])\n",
    "    print('Кажется, вы ошиблись, человека с такими документами нет в базе:(')"
   ]
  },
  {
   "cell_type": "code",
   "execution_count": 52,
   "metadata": {},
   "outputs": [],
   "source": [
    "def search_directory_by_document_number(number):\n",
    "    i=0\n",
    "    for directory in list(directories.values()):\n",
    "        for value in directory:\n",
    "            if value==number:\n",
    "                return list (directories.keys())[i]\n",
    "        i=i+1\n",
    "    print('Кажется, вы ошиблись, полки с такими документами нет в базе:(')    "
   ]
  },
  {
   "cell_type": "code",
   "execution_count": 53,
   "metadata": {},
   "outputs": [],
   "source": [
    "def print_documents(documents):\n",
    "    for doc in documents:\n",
    "        result=''\n",
    "        for value in list(doc.values())[:2]:\n",
    "            result=result+str(value)+'\"'\n",
    "        result=result+'\"'+str(list(doc.values())[2])+'\"'\n",
    "        print(result)\n",
    "    return        "
   ]
  },
  {
   "cell_type": "code",
   "execution_count": 54,
   "metadata": {},
   "outputs": [],
   "source": [
    "def new_directory(shelf):\n",
    "    if directories.get(shelf):\n",
    "        print('Упс, полка с таким номером уже есть')\n",
    "        return\n",
    "    directories[shelf] = []\n",
    "    print(directories)"
   ]
  },
  {
   "cell_type": "code",
   "execution_count": 55,
   "metadata": {},
   "outputs": [],
   "source": [
    "def delete_document(number):\n",
    "    if search_directory_by_document_number:\n",
    "        i=0\n",
    "        for doc in documents:\n",
    "            for value in list(doc.values()):\n",
    "                if value==number:\n",
    "                    l=i\n",
    "                    break\n",
    "            i=i+1\n",
    "        del(documents[l])\n",
    "        i=0\n",
    "        for directory in list(directories.values()):\n",
    "            for value in directory:\n",
    "                if value==number:\n",
    "                    l=i\n",
    "                    break\n",
    "            i=i+1\n",
    "        del(directories[list (directories.keys())[l]])\n",
    "        print(documents)\n",
    "        print(directories)\n",
    "    else:\n",
    "        print('Упс, таких документов нет в нашей базе')\n",
    "        return"
   ]
  },
  {
   "cell_type": "code",
   "execution_count": 57,
   "metadata": {},
   "outputs": [
    {
     "name": "stdout",
     "output_type": "stream",
     "text": [
      "Список возможных команд:\n",
      "p(people) – команда, которая спросит номер документа и выведет имя человека, которому он принадлежит;\n",
      "s(shelf) – команда, которая спросит номер документа и выведет номер полки, на которой он находится;\n",
      "l(list) – команда, которая выведет список всех документов;\n",
      "as(add shelf) – команда, которая спросит номер новой полки и добавит ее в перечень;\n",
      "d(delete) – команда, которая спросит номер документа и удалит его из каталога и из перечня полок;\n",
      "m(move) – команда, которая спросит номер документа и целевую полку и переместит его с текущей полки на целевую;\n",
      "add – команда, которая добавит новый документ в каталог и в перечень полок;\n",
      "Введите команду:з\n",
      "Введите команду:p\n",
      "Введите номер документа:10006\n",
      "Кажется, вы ошиблись, человека с такими документами нет в базе:(\n",
      "None\n",
      "Введите команду:s\n",
      "Введите номер документа:10006\n",
      "Кажется, вы ошиблись, полки с такими документами нет в базе:(\n",
      "None\n",
      "Введите команду:as\n",
      "Введите номер полки:5\n",
      "{'1': ['2207 876234', '11-2'], '3': [], '5': []}\n",
      "Введите команду:e\n"
     ]
    }
   ],
   "source": [
    "def main():\n",
    "    while True:\n",
    "        user_input = str(input('Введите команду:'))\n",
    "        if user_input == 'p':\n",
    "            number = str(input('Введите номер документа:'))\n",
    "            print(search_person_by_document_number(number))  \n",
    "        elif user_input == 's':\n",
    "            number = str(input('Введите номер документа:'))\n",
    "            print(search_directory_by_document_number(number))\n",
    "        elif user_input == 'l':\n",
    "            print(print_documents(documents))\n",
    "        elif user_input == 'as':\n",
    "            shelf = str(input('Введите номер полки:'))\n",
    "            new_directory(shelf)\n",
    "        elif user_input == 'd':\n",
    "            number = str(input('Введите номер документа:'))\n",
    "            delete_document(number)\n",
    "        #elif user_input == 'm':\n",
    "    \n",
    "        #elif user_input == 'add':\n",
    "        \n",
    "        elif user_input == 'e':\n",
    "            break\n",
    "print('Список возможных команд:')\n",
    "print('p(people) – команда, которая спросит номер документа и выведет имя человека, которому он принадлежит;')\n",
    "print('s(shelf) – команда, которая спросит номер документа и выведет номер полки, на которой он находится;')\n",
    "print('l(list) – команда, которая выведет список всех документов;')\n",
    "print('as(add shelf) – команда, которая спросит номер новой полки и добавит ее в перечень;')\n",
    "print('d(delete) – команда, которая спросит номер документа и удалит его из каталога и из перечня полок;')\n",
    "print('m(move) – команда, которая спросит номер документа и целевую полку и переместит его с текущей полки на целевую;')\n",
    "print('add – команда, которая добавит новый документ в каталог и в перечень полок;')\n",
    "main()            "
   ]
  },
  {
   "cell_type": "code",
   "execution_count": null,
   "metadata": {},
   "outputs": [],
   "source": []
  },
  {
   "cell_type": "code",
   "execution_count": null,
   "metadata": {},
   "outputs": [],
   "source": []
  }
 ],
 "metadata": {
  "kernelspec": {
   "display_name": "Python 3",
   "language": "python",
   "name": "python3"
  },
  "language_info": {
   "codemirror_mode": {
    "name": "ipython",
    "version": 3
   },
   "file_extension": ".py",
   "mimetype": "text/x-python",
   "name": "python",
   "nbconvert_exporter": "python",
   "pygments_lexer": "ipython3",
   "version": "3.8.3"
  }
 },
 "nbformat": 4,
 "nbformat_minor": 4
}
