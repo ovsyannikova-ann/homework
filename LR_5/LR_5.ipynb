{
 "cells": [
  {
   "cell_type": "markdown",
   "metadata": {},
   "source": [
    "**Задание 1**\n",
    "Напишите функцию, которая возвращает название валюты (поле 'Name') с максимальным значением курса с помощью сервиса https://www.cbr-xml-daily.ru/daily_json.js"
   ]
  },
  {
   "cell_type": "code",
   "execution_count": 42,
   "metadata": {},
   "outputs": [],
   "source": [
    "import requests"
   ]
  },
  {
   "cell_type": "code",
   "execution_count": 76,
   "metadata": {},
   "outputs": [],
   "source": [
    "class Rate:\n",
    "    \n",
    "    def __init__(self, format_,diff_):\n",
    "        self.format = format_\n",
    "        self.diff=diff_\n",
    "        \n",
    "    def exchange_rates(self):\n",
    "        \n",
    "        self.r = requests.get('https://www.cbr-xml-daily.ru/daily_json.js')\n",
    "        return self.r.json()['Valute']\n",
    "   \n",
    "    def make_format(self, currency):\n",
    "        \n",
    "        response = self.exchange_rates()\n",
    "        \n",
    "        if currency in response:\n",
    "            if self.format == 'full':\n",
    "                return response[currency]\n",
    "            \n",
    "            if self.format == 'value':\n",
    "                if self.diff==True:\n",
    "                    return (response[currency]['Previous']-response[currency]['Value'])\n",
    "                if self.diff==False:\n",
    "                    return (response[currency]['Value'])\n",
    "               \n",
    "        return 'Error'\n",
    "    \n",
    "    def max_value(self):\n",
    "        max=0\n",
    "        response = self.exchange_rates()\n",
    "        for currency in response:\n",
    "            if (response[currency]['Value']/response[currency]['Nominal'])>max:\n",
    "                max=(response[currency]['Value']/response[currency]['Nominal'])\n",
    "                maximum=response[currency]['Name']\n",
    "        return maximum\n",
    "    \n",
    "        \n",
    "    def eur(self):\n",
    "        return self.make_format('EUR')\n",
    "    \n",
    "    def usd(self):\n",
    "        return self.make_format('USD')\n",
    "    \n",
    "    def brl(self):\n",
    "        return self.make_format('BRL')"
   ]
  },
  {
   "cell_type": "code",
   "execution_count": 81,
   "metadata": {},
   "outputs": [],
   "source": [
    "r = Rate(format_='full', diff_=True)"
   ]
  },
  {
   "cell_type": "code",
   "execution_count": 82,
   "metadata": {},
   "outputs": [
    {
     "name": "stdout",
     "output_type": "stream",
     "text": [
      "Название валюты с максимальным значением курса -  СДР (специальные права заимствования)\n"
     ]
    }
   ],
   "source": [
    "print(\"Название валюты с максимальным значением курса - \",r.max_value())"
   ]
  },
  {
   "cell_type": "markdown",
   "metadata": {},
   "source": [
    "**Задание 2**\n",
    "Добавьте в класс Rate параметр diff (со значениями True или False), который в случае значения True в методах курсов валют (eur, usd итд) будет возвращать не курс валюты, а изменение по сравнению в прошлым значением. Считайте, self.diff будет принимать значение True только при возврате значения курса. При отображении всей информации о валюте он не используется."
   ]
  },
  {
   "cell_type": "code",
   "execution_count": 83,
   "metadata": {},
   "outputs": [
    {
     "name": "stdout",
     "output_type": "stream",
     "text": [
      "1.5073\n",
      "90.7237\n"
     ]
    }
   ],
   "source": [
    "print(round(Rate(format_='value', diff_=True).usd(),4))\n",
    "print(Rate(format_='value', diff_=False).eur())"
   ]
  },
  {
   "cell_type": "markdown",
   "metadata": {},
   "source": [
    "**Задание 3**\n",
    "Напишите класс Designer, который учитывает количество международных премий для дизайнеров (из презентации: \"Повышение на 1 грейд за каждые 7 баллов. Получение международной премии – это +2 балла\" для каждой аккредитации увеличиваем счетчик на 1, пока считаем, что все дизайнеры проходят аккредитацию). Считайте, что при выходе на работу сотрудник уже имеет две премии и их количество меняется со стажем (получение премии генератор случайных чисел ). Выполните проверку для 20 аккредитаций дизайнера Елены. Подсказки в коде занятия в разделе “Домашнее задание задача 3”.\n",
    "\n",
    "Для проверки используйте код:\n",
    "\n",
    "elena = Designer('Елена', seniority=0, awards=2)\n",
    "for i in range(20):\n",
    "    elena.check_if_it_is_time_for_upgrade()"
   ]
  },
  {
   "cell_type": "code",
   "execution_count": 93,
   "metadata": {},
   "outputs": [],
   "source": [
    "import random"
   ]
  },
  {
   "cell_type": "code",
   "execution_count": 155,
   "metadata": {},
   "outputs": [],
   "source": [
    "class Employee:\n",
    "    def __init__(self, name, seniority, awards):\n",
    "        self.name = name\n",
    "        self.seniority = seniority+2*awards\n",
    "        self.grade = 1\n",
    "        self.seniority_now= seniority+2*awards\n",
    "    def grade_up(self):\n",
    "        \"\"\"Повышает уровень сотрудника\"\"\"\n",
    "        self.grade += 1\n",
    "        self.seniority_now=self.seniority_now-7\n",
    "    def publish_grade(self):\n",
    "        \"\"\"Публикация результатов аккредитации сотрудников\"\"\"\n",
    "        print(\"%-8s%-9d%-d\" % (self.name,self.seniority,self.grade))\n",
    "    \n",
    "    def check_if_it_is_time_for_upgrade(self):\n",
    "        pass"
   ]
  },
  {
   "cell_type": "code",
   "execution_count": 156,
   "metadata": {},
   "outputs": [],
   "source": [
    "class Designer(Employee):\n",
    "    def __init__(self, name, seniority, awards):\n",
    "        super().__init__(name, seniority, awards)\n",
    "    \n",
    "    def check_if_it_is_time_for_upgrade(self):\n",
    "        # для каждой аккредитации увеличиваем счетчик на 1\n",
    "        # пока считаем, что все дизайнеры проходят аккредитацию\n",
    "        self.seniority += 1\n",
    "        self.seniority_now+=1\n",
    "        if random.choice([True, False]):\n",
    "            self.seniority += 2\n",
    "            self.seniority_now+=2\n",
    "        \n",
    "        # условие повышения сотрудника из презентации\n",
    "        if self.seniority_now-7>=0:\n",
    "            self.grade_up()\n",
    "        # публикация результатов\n",
    "        return self.publish_grade()"
   ]
  },
  {
   "cell_type": "code",
   "execution_count": 158,
   "metadata": {},
   "outputs": [
    {
     "name": "stdout",
     "output_type": "stream",
     "text": [
      "name seniority grade\n",
      "Елена   4        1\n",
      "Елена   7        2\n",
      "Елена   8        2\n",
      "Елена   9        2\n",
      "Елена   10       2\n",
      "Елена   13       2\n",
      "Елена   14       3\n",
      "Елена   15       3\n",
      "Елена   18       3\n",
      "Елена   19       3\n",
      "Елена   20       3\n",
      "Елена   21       4\n",
      "Елена   24       4\n",
      "Елена   25       4\n",
      "Елена   26       4\n",
      "Елена   27       4\n",
      "Елена   28       5\n",
      "Елена   31       5\n",
      "Елена   32       5\n",
      "Елена   33       5\n",
      "Елена   36       6\n"
     ]
    }
   ],
   "source": [
    "elena = Designer('Елена', seniority=0, awards=2) \n",
    "print(\"name seniority grade\")\n",
    "print(\"%-8s%-9d%-d\"%('Елена',4,1))\n",
    "for i in range(20): \n",
    "    elena.check_if_it_is_time_for_upgrade()"
   ]
  }
 ],
 "metadata": {
  "kernelspec": {
   "display_name": "Python 3",
   "language": "python",
   "name": "python3"
  },
  "language_info": {
   "codemirror_mode": {
    "name": "ipython",
    "version": 3
   },
   "file_extension": ".py",
   "mimetype": "text/x-python",
   "name": "python",
   "nbconvert_exporter": "python",
   "pygments_lexer": "ipython3",
   "version": "3.8.3"
  }
 },
 "nbformat": 4,
 "nbformat_minor": 4
}
